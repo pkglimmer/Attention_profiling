{
 "cells": [
  {
   "cell_type": "code",
   "execution_count": 1,
   "metadata": {},
   "outputs": [],
   "source": [
    "import torch\n",
    "import matplotlib.pyplot as plt\n"
   ]
  },
  {
   "cell_type": "code",
   "execution_count": 2,
   "metadata": {},
   "outputs": [
    {
     "name": "stdout",
     "output_type": "stream",
     "text": [
      "a.shape torch.Size([4, 2])\n"
     ]
    }
   ],
   "source": [
    "a = torch.zeros(4, 2)\n",
    "b = a.chunk(2, dim=0)\n",
    "print(f'a.shape {a.shape}')\n"
   ]
  },
  {
   "cell_type": "code",
   "execution_count": 3,
   "metadata": {},
   "outputs": [],
   "source": [
    "a.to('cuda:0')\n",
    "c = torch.zeros((4,2), device = 'cuda:1')\n",
    "c = a"
   ]
  },
  {
   "cell_type": "code",
   "execution_count": null,
   "metadata": {},
   "outputs": [],
   "source": [
    "import torch.distributed as dist\n",
    "import os\n",
    "os.environ['MASTER_ADDR'] = '127.0.0.1'\n",
    "os.environ['MASTER_PORT'] = '29500'\n",
    "dist.init_process_group('nccl', rank=0, world_size=2)\n",
    "\n",
    "\n",
    "K1 = torch.ones(4,2)\n",
    "K1 = K1.to('cuda:0')\n",
    "K2 = torch.ones(4,2)\n",
    "K2 = K2.to('cuda:0')\n",
    "\n",
    "gather_list = []\n",
    "output_tensor = []\n",
    "world_size = dist.get_world_size()\n",
    "for tensor in [K1, K2]:\n",
    "    tensor_placeholder = [\n",
    "        torch.ones_like(tensor) for _ in range(world_size)\n",
    "    ]\n",
    "    dist.all_gather(tensor_placeholder, tensor, async_op=False)\n",
    "    gather_list.append(tensor_placeholder)\n",
    "for gathered_tensor in gather_list:\n",
    "    output_tensor.append(torch.cat(gathered_tensor, dim=0))\n"
   ]
  },
  {
   "cell_type": "code",
   "execution_count": null,
   "metadata": {},
   "outputs": [],
   "source": [
    "import torch\n",
    "import torch.distributed as dist\n",
    "import os\n",
    "\n",
    "os.environ['MASTER_ADDR'] = '127.0.0.1'\n",
    "os.environ['MASTER_PORT'] = '29500'\n",
    "dist.init_process_group(backend=\"nccl\",\n",
    "                        world_size=2,\n",
    "                        rank=0)\n",
    "tensor_list = []\n",
    "for dev_idx in range(torch.cuda.device_count()):\n",
    "    tensor_list.append(torch.FloatTensor([1]).cuda(dev_idx))\n",
    "\n",
    "dist.all_reduce_multigpu(tensor_list)"
   ]
  },
  {
   "cell_type": "code",
   "execution_count": 3,
   "metadata": {},
   "outputs": [
    {
     "data": {
      "text/plain": [
       "torch.Size([32, 2, 512, 512])"
      ]
     },
     "execution_count": 3,
     "metadata": {},
     "output_type": "execute_result"
    }
   ],
   "source": [
    "A = torch.randn(32, 2, 512, 16)\n",
    "B = torch.randn_like(A)\n",
    "B.transpose(-1, -2).shape\n",
    "torch.matmul(A, B.transpose(-1, -2)).shape"
   ]
  },
  {
   "cell_type": "code",
   "execution_count": null,
   "metadata": {},
   "outputs": [],
   "source": []
  }
 ],
 "metadata": {
  "kernelspec": {
   "display_name": "Python 3.10.4 ('pk')",
   "language": "python",
   "name": "python3"
  },
  "language_info": {
   "codemirror_mode": {
    "name": "ipython",
    "version": 3
   },
   "file_extension": ".py",
   "mimetype": "text/x-python",
   "name": "python",
   "nbconvert_exporter": "python",
   "pygments_lexer": "ipython3",
   "version": "3.10.4 (main, Mar 31 2022, 08:41:55) [GCC 7.5.0]"
  },
  "orig_nbformat": 4,
  "vscode": {
   "interpreter": {
    "hash": "a1bde256b0831926f638dac6cdb9322139b9ca77282509d5eeb2c1d2341ae4ff"
   }
  }
 },
 "nbformat": 4,
 "nbformat_minor": 2
}
